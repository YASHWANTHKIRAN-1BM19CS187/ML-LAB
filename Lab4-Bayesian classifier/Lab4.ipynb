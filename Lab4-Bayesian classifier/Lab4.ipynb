{
  "nbformat": 4,
  "nbformat_minor": 0,
  "metadata": {
    "colab": {
      "name": "Lab4.ipynb",
      "provenance": []
    },
    "kernelspec": {
      "name": "python3",
      "display_name": "Python 3"
    },
    "language_info": {
      "name": "python"
    }
  },
  "cells": [
    {
      "cell_type": "code",
      "metadata": {
        "id": "GZUtvNP6mQtm"
      },
      "source": [
        "import pandas as pd\n",
        "from sklearn.model_selection import train_test_split\n",
        "from sklearn.naive_bayes import GaussianNB\n",
        "from sklearn import metrics"
      ],
      "execution_count": 1,
      "outputs": []
    },
    {
      "cell_type": "code",
      "metadata": {
        "colab": {
          "base_uri": "https://localhost:8080/"
        },
        "id": "BkKvciO7me4S",
        "outputId": "6f7ca9d4-cc67-4e1c-f3d0-4c2efc2dcd92"
      },
      "source": [
        "from google.colab import drive\n",
        "drive.mount(\"/content/drive\")"
      ],
      "execution_count": 2,
      "outputs": [
        {
          "output_type": "stream",
          "text": [
            "Mounted at /content/drive\n"
          ],
          "name": "stdout"
        }
      ]
    },
    {
      "cell_type": "code",
      "metadata": {
        "id": "9eUeWgOcmg3B"
      },
      "source": [
        "df = pd.read_csv(\"/content/drive/MyDrive/pima_indian.csv\")\n",
        "feature_col_names = ['num_preg', 'glucose_conc', 'diastolic_bp', 'thickness', 'insulin', 'bmi', 'diab_pred', 'age']\n",
        "predicted_class_names = ['diabetes']"
      ],
      "execution_count": 4,
      "outputs": []
    },
    {
      "cell_type": "code",
      "metadata": {
        "id": "qORPL4Memslg"
      },
      "source": [
        "X = df[feature_col_names].values \n",
        "y = df[predicted_class_names].values"
      ],
      "execution_count": 5,
      "outputs": []
    },
    {
      "cell_type": "code",
      "metadata": {
        "colab": {
          "base_uri": "https://localhost:8080/"
        },
        "id": "TONWCKBBmxJd",
        "outputId": "8982336a-6a6e-47dc-d77c-3c1c7b27b9be"
      },
      "source": [
        "print(df.head)\n",
        "xtrain,xtest,ytrain,ytest=train_test_split(X,y,test_size=0.33)\n",
        "\n",
        "print ('\\n the total number of Training Data :',ytrain.shape)\n",
        "print ('\\n the total number of Test Data :',ytest.shape)"
      ],
      "execution_count": 6,
      "outputs": [
        {
          "output_type": "stream",
          "text": [
            "<bound method NDFrame.head of      num_preg  glucose_conc  diastolic_bp  ...  diab_pred  age  diabetes\n",
            "0           6           148            72  ...      0.627   50         1\n",
            "1           1            85            66  ...      0.351   31         0\n",
            "2           8           183            64  ...      0.672   32         1\n",
            "3           1            89            66  ...      0.167   21         0\n",
            "4           0           137            40  ...      2.288   33         1\n",
            "..        ...           ...           ...  ...        ...  ...       ...\n",
            "763        10           101            76  ...      0.171   63         0\n",
            "764         2           122            70  ...      0.340   27         0\n",
            "765         5           121            72  ...      0.245   30         0\n",
            "766         1           126            60  ...      0.349   47         1\n",
            "767         1            93            70  ...      0.315   23         0\n",
            "\n",
            "[768 rows x 9 columns]>\n",
            "\n",
            " the total number of Training Data : (514, 1)\n",
            "\n",
            " the total number of Test Data : (254, 1)\n"
          ],
          "name": "stdout"
        }
      ]
    },
    {
      "cell_type": "code",
      "metadata": {
        "id": "dsjRN4yXmzhs"
      },
      "source": [
        "clf = GaussianNB().fit(xtrain,ytrain.ravel())\n",
        "predicted = clf.predict(xtest)\n",
        "predictTestData= clf.predict([[6,148,72,35,0,33.6,0.627,50]])"
      ],
      "execution_count": 7,
      "outputs": []
    },
    {
      "cell_type": "code",
      "metadata": {
        "colab": {
          "base_uri": "https://localhost:8080/"
        },
        "id": "bilOhfd3nNO7",
        "outputId": "12f16cd6-7dba-4342-ee65-dcd31e4d7ea9"
      },
      "source": [
        "print('\\n Confusion matrix')\n",
        "print(metrics.confusion_matrix(ytest,predicted))\n",
        "\n",
        "print('\\n Accuracy of the classifier is',metrics.accuracy_score(ytest,predicted))\n",
        "\n",
        "print('\\n The value of Precision', metrics.precision_score(ytest,predicted))\n",
        "\n",
        "print('\\n The value of Recall', metrics.recall_score(ytest,predicted))\n",
        "\n",
        "print(\"Predicted Value for individual Test Data:\", predictTestData)"
      ],
      "execution_count": 8,
      "outputs": [
        {
          "output_type": "stream",
          "text": [
            "\n",
            " Confusion matrix\n",
            "[[132  29]\n",
            " [ 45  48]]\n",
            "\n",
            " Accuracy of the classifier is 0.7086614173228346\n",
            "\n",
            " The value of Precision 0.6233766233766234\n",
            "\n",
            " The value of Recall 0.5161290322580645\n",
            "Predicted Value for individual Test Data: [1]\n"
          ],
          "name": "stdout"
        }
      ]
    }
  ]
}