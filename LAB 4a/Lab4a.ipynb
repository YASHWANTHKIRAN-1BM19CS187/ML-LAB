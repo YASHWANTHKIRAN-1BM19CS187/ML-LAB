{
  "nbformat": 4,
  "nbformat_minor": 0,
  "metadata": {
    "colab": {
      "name": "Lab4.ipynb",
      "provenance": [],
      "authorship_tag": "ABX9TyNpmvALpOpiYWduoCRdyaQ0",
      "include_colab_link": true
    },
    "kernelspec": {
      "name": "python3",
      "display_name": "Python 3"
    },
    "language_info": {
      "name": "python"
    }
  },
  "cells": [
    {
      "cell_type": "markdown",
      "metadata": {
        "id": "view-in-github",
        "colab_type": "text"
      },
      "source": [
        "<a href=\"https://colab.research.google.com/github/PoojaSrinivasan18/1BM18CS069-ML/blob/main/Lab4a/Lab4a.ipynb\" target=\"_parent\"><img src=\"https://colab.research.google.com/assets/colab-badge.svg\" alt=\"Open In Colab\"/></a>"
      ]
    },
    {
      "cell_type": "code",
      "metadata": {
        "id": "GZUtvNP6mQtm"
      },
      "source": [
        "import pandas as pd\n",
        "from sklearn.model_selection import train_test_split\n",
        "from sklearn.naive_bayes import GaussianNB\n",
        "from sklearn import metrics"
      ],
      "execution_count": 1,
      "outputs": []
    },
    {
      "cell_type": "code",
      "metadata": {
        "colab": {
          "base_uri": "https://localhost:8080/"
        },
        "id": "BkKvciO7me4S",
        "outputId": "6b5f6a34-56d0-4b8b-cf2f-1d3e5e50bc86"
      },
      "source": [
        "from google.colab import drive\n",
        "drive.mount(\"/content/drive\")"
      ],
      "execution_count": 2,
      "outputs": [
        {
          "output_type": "stream",
          "text": [
            "Drive already mounted at /content/drive; to attempt to forcibly remount, call drive.mount(\"/content/drive\", force_remount=True).\n"
          ],
          "name": "stdout"
        }
      ]
    },
    {
      "cell_type": "code",
      "metadata": {
        "id": "9eUeWgOcmg3B"
      },
      "source": [
        "df = pd.read_csv(\"/content/drive/MyDrive/abalone.csv\")\n",
        "feature_col_names = ['Length','Diameter','Height','Whole weight','Shucked weight','Viscera weight','Shell weight']\n",
        "predicted_class_names = ['Rings']"
      ],
      "execution_count": 3,
      "outputs": []
    },
    {
      "cell_type": "code",
      "metadata": {
        "id": "qORPL4Memslg"
      },
      "source": [
        "X = df[feature_col_names].values \n",
        "y = df[predicted_class_names].values"
      ],
      "execution_count": 4,
      "outputs": []
    },
    {
      "cell_type": "code",
      "metadata": {
        "colab": {
          "base_uri": "https://localhost:8080/"
        },
        "id": "TONWCKBBmxJd",
        "outputId": "93cda5a0-cb48-4e9d-ea46-463496f75466"
      },
      "source": [
        "print(df.head)\n",
        "xtrain,xtest,ytrain,ytest=train_test_split(X,y,test_size=0.33)\n",
        "\n",
        "print ('\\n the total number of Training Data :',ytrain.shape)\n",
        "print ('\\n the total number of Test Data :',ytest.shape)"
      ],
      "execution_count": 5,
      "outputs": [
        {
          "output_type": "stream",
          "text": [
            "<bound method NDFrame.head of       Length  Diameter  Height  ...  Viscera weight  Shell weight  Rings\n",
            "0      0.455     0.365   0.095  ...          0.1010        0.1500     15\n",
            "1      0.350     0.265   0.090  ...          0.0485        0.0700      7\n",
            "2      0.530     0.420   0.135  ...          0.1415        0.2100      9\n",
            "3      0.440     0.365   0.125  ...          0.1140        0.1550     10\n",
            "4      0.330     0.255   0.080  ...          0.0395        0.0550      7\n",
            "...      ...       ...     ...  ...             ...           ...    ...\n",
            "4172   0.565     0.450   0.165  ...          0.2390        0.2490     11\n",
            "4173   0.590     0.440   0.135  ...          0.2145        0.2605     10\n",
            "4174   0.600     0.475   0.205  ...          0.2875        0.3080      9\n",
            "4175   0.625     0.485   0.150  ...          0.2610        0.2960     10\n",
            "4176   0.710     0.555   0.195  ...          0.3765        0.4950     12\n",
            "\n",
            "[4177 rows x 8 columns]>\n",
            "\n",
            " the total number of Training Data : (2798, 1)\n",
            "\n",
            " the total number of Test Data : (1379, 1)\n"
          ],
          "name": "stdout"
        }
      ]
    },
    {
      "cell_type": "code",
      "metadata": {
        "id": "dsjRN4yXmzhs"
      },
      "source": [
        "clf = GaussianNB().fit(xtrain,ytrain.ravel())\n",
        "predicted = clf.predict(xtest)\n",
        "predictTestData= clf.predict([[0.455,0.365,0.095,0.514,0.2245,0.101,0.15]])"
      ],
      "execution_count": 6,
      "outputs": []
    },
    {
      "cell_type": "code",
      "metadata": {
        "colab": {
          "base_uri": "https://localhost:8080/"
        },
        "id": "bilOhfd3nNO7",
        "outputId": "f561db05-2331-4cce-c233-95cabdd4db28"
      },
      "source": [
        "print('\\n Confusion matrix')\n",
        "print(metrics.confusion_matrix(ytest,predicted))\n",
        "\n",
        "print('\\n Accuracy of the classifier is',metrics.accuracy_score(ytest,predicted))\n",
        "\n",
        "#print('\\n The value of Precision', average_precision_score(ytest, predicted)\n",
        "\n",
        "#print('\\n The value of Recall', metrics.recall_score(ytest,predicted))\n",
        "\n",
        "print(\"Predicted Value for individual Test Data:\", predictTestData)"
      ],
      "execution_count": 13,
      "outputs": [
        {
          "output_type": "stream",
          "text": [
            "\n",
            " Confusion matrix\n",
            "[[ 0  1  0  0  0  0  0  0  0  0  0  0  0  0  0  0  0  0  0  0  0  0  0  0\n",
            "   0  0]\n",
            " [ 0  4  0  0  0  0  0  0  0  0  0  0  0  0  0  0  0  0  0  0  0  0  0  0\n",
            "   0  0]\n",
            " [ 0  6  9  4  0  0  0  0  0  0  0  0  0  0  0  0  0  0  0  0  0  0  0  0\n",
            "   0  0]\n",
            " [ 0  1 13 17  7  2  0  0  0  0  0  0  0  0  0  0  0  0  0  0  0  0  0  0\n",
            "   0  0]\n",
            " [ 0  1  5 32 32 25  5  2  0  1  0  0  0  0  0  0  0  0  0  0  0  0  0  0\n",
            "   0  0]\n",
            " [ 0  0  2 20 34 42 12  8  1  2  0  0  0  0  0  0  0  0  0  0  0  0  0  0\n",
            "   0  0]\n",
            " [ 0  0  1  2 20 47 52 41 11  7  0  0  0  0  0  0  0  0  0  0  0  0  0  0\n",
            "   0  0]\n",
            " [ 0  0  0  5 10 25 55 61 33 25  0  0  0  0  0  0  0  0  0  0  0  0  0  0\n",
            "   0  0]\n",
            " [ 0  0  0  1  7 13 32 57 31 55  0  0  0  0  0  0  0  0  0  6  0  0  0  0\n",
            "   0  0]\n",
            " [ 0  0  0  2  2  8 16 36 20 68  0  0  0  0  0  0  0  0  0  6  0  1  0  0\n",
            "   0  0]\n",
            " [ 0  0  0  0  2  9 13 20 11 31  0  0  0  0  0  0  0  0  0  4  0  0  0  0\n",
            "   0  3]\n",
            " [ 0  0  0  0  1  7 13 14 11 16  0  0  0  0  0  0  0  0  1  6  0  0  0  0\n",
            "   0  0]\n",
            " [ 0  0  0  0  1  2  9 10  7 11  0  0  0  0  0  1  0  0  0  5  0  0  0  0\n",
            "   0  3]\n",
            " [ 0  0  0  0  0  1  8  9  9  4  0  0  0  0  0  0  0  0  0  3  0  0  0  0\n",
            "   0  0]\n",
            " [ 0  0  0  0  0  0  1  7  2  6  0  0  0  0  0  0  0  0  0  6  0  0  0  0\n",
            "   0  1]\n",
            " [ 0  0  0  0  0  1  0  3  5  1  0  0  0  0  0  0  0  0  0  6  0  0  0  0\n",
            "   0  4]\n",
            " [ 0  0  0  0  0  1  2  2  1  3  0  0  0  0  0  0  0  0  0  3  0  0  0  0\n",
            "   0  0]\n",
            " [ 0  0  0  0  0  1  1  4  1  3  0  0  0  0  0  0  0  0  0  2  0  0  0  0\n",
            "   0  0]\n",
            " [ 0  0  0  0  0  0  0  0  1  2  0  0  0  0  0  0  0  0  0  3  0  0  0  0\n",
            "   0  0]\n",
            " [ 0  0  0  0  0  0  2  1  1  1  0  0  0  0  0  0  1  0  0  1  0  0  0  0\n",
            "   0  0]\n",
            " [ 0  0  0  0  0  0  1  0  0  0  0  0  0  0  0  0  0  0  0  1  0  0  0  0\n",
            "   0  0]\n",
            " [ 0  0  0  0  0  0  1  1  0  2  0  0  0  0  0  0  0  0  0  0  0  0  0  0\n",
            "   0  0]\n",
            " [ 0  0  0  0  0  0  0  0  0  0  0  0  0  0  0  0  0  0  0  1  0  0  0  0\n",
            "   0  1]\n",
            " [ 0  0  0  0  0  0  0  0  0  0  0  0  0  0  0  0  0  0  0  1  0  0  0  0\n",
            "   0  0]\n",
            " [ 0  0  0  0  0  0  0  0  1  0  0  0  0  0  0  0  0  0  0  0  0  0  0  0\n",
            "   0  0]\n",
            " [ 0  0  0  0  0  0  0  0  0  0  0  0  0  0  0  0  0  0  0  0  0  0  0  0\n",
            "   0  0]]\n",
            "\n",
            " Accuracy of the classifier is 0.22987672226250908\n",
            "Predicted Value for individual Test Data: [7]\n"
          ],
          "name": "stdout"
        }
      ]
    }
  ]
}