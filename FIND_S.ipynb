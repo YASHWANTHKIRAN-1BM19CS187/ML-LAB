import pandas as pd
import numpy as np

ANY_VALUE = '?'
NO_VALUE = None

# SINGLE_VALUE = any none none value

def search(key, data_sets):
    count = 0
    for data_set in data_sets:
#         print('data_set:', data_set)
#         print(len(data_set))
        for i in range(len(data_set)):
#             print('index:', i)
            if key[i] == ANY_VALUE:
                continue
            elif key[i] == NO_VALUE and data_set[i] != NO_VALUE:
                key[i] = data_set[i]
            elif key[i] != data_set[i]:
                return i
        count += 1
    return -1

def filter_for_true_value(data_sets, true_value):
    filtered = []
    for data_set in data_sets:
#         print(data_set[-1])
        if data_set[-1] == (true_value):
#             print('here')
            filtered.append(data_set)
    
    filtered = np.array(filtered)
#     print(filtered)
    return filtered
    
def find_s(data_sets, true_value):
    hyp = [NO_VALUE for i in range(len(data_sets[0]))]
    positive_data_sets = filter_for_true_value(data_sets, true_value)
    
    for feature in range(positive_data_sets.shape[1]):
        feature_mismatch = search(hyp, positive_data_sets)
        if feature_mismatch != -1:
            hyp[feature_mismatch] = ANY_VALUE
    
#     print(hyp)
    return hyp

data_sets = np.array(pd.read_csv("data.csv"))
data_sets

data_sets.shape[1]

data_sets    

hyp = find_s(data_sets, 'yes')
print('The best fit hypothesis is:', hyp)
