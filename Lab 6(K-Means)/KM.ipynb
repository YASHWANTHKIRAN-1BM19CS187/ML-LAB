{
  "nbformat": 4,
  "nbformat_minor": 0,
  "metadata": {
    "colab": {
      "name": "Lab6.ipynb",
      "provenance": []
    },
    "kernelspec": {
      "name": "python3",
      "display_name": "Python 3"
    },
    "language_info": {
      "name": "python"
    }
  },
  "cells": [
    {
      "cell_type": "code",
      "metadata": {
        "id": "BuO2dvEkmvdE"
      },
      "source": [
        "from sklearn.preprocessing import StandardScaler\n",
        "from sklearn.cluster import KMeans\n",
        "import pandas as pd\n",
        "import numpy as np\n",
        "from itertools import cycle, islice"
      ],
      "execution_count": 2,
      "outputs": []
    },
    {
      "cell_type": "code",
      "metadata": {
        "id": "NQLP2oUmm4BO",
        "colab": {
          "base_uri": "https://localhost:8080/"
        },
        "outputId": "7cdaca99-76c6-4719-ff10-58c09f6877c5"
      },
      "source": [
        "from google.colab import drive\n",
        "drive.mount(\"/content/drive\")"
      ],
      "execution_count": 3,
      "outputs": [
        {
          "output_type": "stream",
          "text": [
            "Mounted at /content/drive\n"
          ],
          "name": "stdout"
        }
      ]
    },
    {
      "cell_type": "code",
      "metadata": {
        "id": "NTBgBRMOnCbU"
      },
      "source": [
        "data = pd.read_csv('/content/drive/MyDrive/minute_weather.csv')"
      ],
      "execution_count": 4,
      "outputs": []
    },
    {
      "cell_type": "code",
      "metadata": {
        "id": "iR4y3o9CnHxw",
        "colab": {
          "base_uri": "https://localhost:8080/"
        },
        "outputId": "173ecf71-5730-40ad-97fc-c2a0aef903a4"
      },
      "source": [
        "data.shape"
      ],
      "execution_count": 5,
      "outputs": [
        {
          "output_type": "execute_result",
          "data": {
            "text/plain": [
              "(1587257, 13)"
            ]
          },
          "metadata": {
            "tags": []
          },
          "execution_count": 5
        }
      ]
    },
    {
      "cell_type": "code",
      "metadata": {
        "id": "fcOqhYH8nedH",
        "colab": {
          "base_uri": "https://localhost:8080/",
          "height": 299
        },
        "outputId": "18b9d5b7-6b89-45d1-fc0b-39bb7e2fc547"
      },
      "source": [
        "data.head()"
      ],
      "execution_count": 6,
      "outputs": [
        {
          "output_type": "execute_result",
          "data": {
            "text/html": [
              "<div>\n",
              "<style scoped>\n",
              "    .dataframe tbody tr th:only-of-type {\n",
              "        vertical-align: middle;\n",
              "    }\n",
              "\n",
              "    .dataframe tbody tr th {\n",
              "        vertical-align: top;\n",
              "    }\n",
              "\n",
              "    .dataframe thead th {\n",
              "        text-align: right;\n",
              "    }\n",
              "</style>\n",
              "<table border=\"1\" class=\"dataframe\">\n",
              "  <thead>\n",
              "    <tr style=\"text-align: right;\">\n",
              "      <th></th>\n",
              "      <th>rowID</th>\n",
              "      <th>hpwren_timestamp</th>\n",
              "      <th>air_pressure</th>\n",
              "      <th>air_temp</th>\n",
              "      <th>avg_wind_direction</th>\n",
              "      <th>avg_wind_speed</th>\n",
              "      <th>max_wind_direction</th>\n",
              "      <th>max_wind_speed</th>\n",
              "      <th>min_wind_direction</th>\n",
              "      <th>min_wind_speed</th>\n",
              "      <th>rain_accumulation</th>\n",
              "      <th>rain_duration</th>\n",
              "      <th>relative_humidity</th>\n",
              "    </tr>\n",
              "  </thead>\n",
              "  <tbody>\n",
              "    <tr>\n",
              "      <th>0</th>\n",
              "      <td>0</td>\n",
              "      <td>2011-09-10 00:00:49</td>\n",
              "      <td>912.3</td>\n",
              "      <td>64.76</td>\n",
              "      <td>97.0</td>\n",
              "      <td>1.2</td>\n",
              "      <td>106.0</td>\n",
              "      <td>1.6</td>\n",
              "      <td>85.0</td>\n",
              "      <td>1.0</td>\n",
              "      <td>NaN</td>\n",
              "      <td>NaN</td>\n",
              "      <td>60.5</td>\n",
              "    </tr>\n",
              "    <tr>\n",
              "      <th>1</th>\n",
              "      <td>1</td>\n",
              "      <td>2011-09-10 00:01:49</td>\n",
              "      <td>912.3</td>\n",
              "      <td>63.86</td>\n",
              "      <td>161.0</td>\n",
              "      <td>0.8</td>\n",
              "      <td>215.0</td>\n",
              "      <td>1.5</td>\n",
              "      <td>43.0</td>\n",
              "      <td>0.2</td>\n",
              "      <td>0.0</td>\n",
              "      <td>0.0</td>\n",
              "      <td>39.9</td>\n",
              "    </tr>\n",
              "    <tr>\n",
              "      <th>2</th>\n",
              "      <td>2</td>\n",
              "      <td>2011-09-10 00:02:49</td>\n",
              "      <td>912.3</td>\n",
              "      <td>64.22</td>\n",
              "      <td>77.0</td>\n",
              "      <td>0.7</td>\n",
              "      <td>143.0</td>\n",
              "      <td>1.2</td>\n",
              "      <td>324.0</td>\n",
              "      <td>0.3</td>\n",
              "      <td>0.0</td>\n",
              "      <td>0.0</td>\n",
              "      <td>43.0</td>\n",
              "    </tr>\n",
              "    <tr>\n",
              "      <th>3</th>\n",
              "      <td>3</td>\n",
              "      <td>2011-09-10 00:03:49</td>\n",
              "      <td>912.3</td>\n",
              "      <td>64.40</td>\n",
              "      <td>89.0</td>\n",
              "      <td>1.2</td>\n",
              "      <td>112.0</td>\n",
              "      <td>1.6</td>\n",
              "      <td>12.0</td>\n",
              "      <td>0.7</td>\n",
              "      <td>0.0</td>\n",
              "      <td>0.0</td>\n",
              "      <td>49.5</td>\n",
              "    </tr>\n",
              "    <tr>\n",
              "      <th>4</th>\n",
              "      <td>4</td>\n",
              "      <td>2011-09-10 00:04:49</td>\n",
              "      <td>912.3</td>\n",
              "      <td>64.40</td>\n",
              "      <td>185.0</td>\n",
              "      <td>0.4</td>\n",
              "      <td>260.0</td>\n",
              "      <td>1.0</td>\n",
              "      <td>100.0</td>\n",
              "      <td>0.1</td>\n",
              "      <td>0.0</td>\n",
              "      <td>0.0</td>\n",
              "      <td>58.8</td>\n",
              "    </tr>\n",
              "  </tbody>\n",
              "</table>\n",
              "</div>"
            ],
            "text/plain": [
              "   rowID     hpwren_timestamp  ...  rain_duration  relative_humidity\n",
              "0      0  2011-09-10 00:00:49  ...            NaN               60.5\n",
              "1      1  2011-09-10 00:01:49  ...            0.0               39.9\n",
              "2      2  2011-09-10 00:02:49  ...            0.0               43.0\n",
              "3      3  2011-09-10 00:03:49  ...            0.0               49.5\n",
              "4      4  2011-09-10 00:04:49  ...            0.0               58.8\n",
              "\n",
              "[5 rows x 13 columns]"
            ]
          },
          "metadata": {
            "tags": []
          },
          "execution_count": 6
        }
      ]
    },
    {
      "cell_type": "code",
      "metadata": {
        "id": "OECWwkQ_nH6D",
        "colab": {
          "base_uri": "https://localhost:8080/"
        },
        "outputId": "bfe00bb8-f98d-451b-c29e-d8ec1c2ca270"
      },
      "source": [
        "#data sampling\n",
        "sampled_df = data[(data['rowID'] % 10) == 0]\n",
        "sampled_df.shape"
      ],
      "execution_count": 7,
      "outputs": [
        {
          "output_type": "execute_result",
          "data": {
            "text/plain": [
              "(158726, 13)"
            ]
          },
          "metadata": {
            "tags": []
          },
          "execution_count": 7
        }
      ]
    },
    {
      "cell_type": "code",
      "metadata": {
        "id": "1mIpVMOmnRZ6",
        "colab": {
          "base_uri": "https://localhost:8080/",
          "height": 402
        },
        "outputId": "1ec9d57c-e17e-4a2e-fb57-9c5ecc58f747"
      },
      "source": [
        "sampled_df.describe().transpose()"
      ],
      "execution_count": 8,
      "outputs": [
        {
          "output_type": "execute_result",
          "data": {
            "text/html": [
              "<div>\n",
              "<style scoped>\n",
              "    .dataframe tbody tr th:only-of-type {\n",
              "        vertical-align: middle;\n",
              "    }\n",
              "\n",
              "    .dataframe tbody tr th {\n",
              "        vertical-align: top;\n",
              "    }\n",
              "\n",
              "    .dataframe thead th {\n",
              "        text-align: right;\n",
              "    }\n",
              "</style>\n",
              "<table border=\"1\" class=\"dataframe\">\n",
              "  <thead>\n",
              "    <tr style=\"text-align: right;\">\n",
              "      <th></th>\n",
              "      <th>count</th>\n",
              "      <th>mean</th>\n",
              "      <th>std</th>\n",
              "      <th>min</th>\n",
              "      <th>25%</th>\n",
              "      <th>50%</th>\n",
              "      <th>75%</th>\n",
              "      <th>max</th>\n",
              "    </tr>\n",
              "  </thead>\n",
              "  <tbody>\n",
              "    <tr>\n",
              "      <th>rowID</th>\n",
              "      <td>158726.0</td>\n",
              "      <td>793625.000000</td>\n",
              "      <td>458203.937509</td>\n",
              "      <td>0.00</td>\n",
              "      <td>396812.5</td>\n",
              "      <td>793625.00</td>\n",
              "      <td>1190437.50</td>\n",
              "      <td>1587250.00</td>\n",
              "    </tr>\n",
              "    <tr>\n",
              "      <th>air_pressure</th>\n",
              "      <td>158726.0</td>\n",
              "      <td>916.830161</td>\n",
              "      <td>3.051717</td>\n",
              "      <td>905.00</td>\n",
              "      <td>914.8</td>\n",
              "      <td>916.70</td>\n",
              "      <td>918.70</td>\n",
              "      <td>929.50</td>\n",
              "    </tr>\n",
              "    <tr>\n",
              "      <th>air_temp</th>\n",
              "      <td>158726.0</td>\n",
              "      <td>61.851589</td>\n",
              "      <td>11.833569</td>\n",
              "      <td>31.64</td>\n",
              "      <td>52.7</td>\n",
              "      <td>62.24</td>\n",
              "      <td>70.88</td>\n",
              "      <td>99.50</td>\n",
              "    </tr>\n",
              "    <tr>\n",
              "      <th>avg_wind_direction</th>\n",
              "      <td>158680.0</td>\n",
              "      <td>162.156100</td>\n",
              "      <td>95.278201</td>\n",
              "      <td>0.00</td>\n",
              "      <td>62.0</td>\n",
              "      <td>182.00</td>\n",
              "      <td>217.00</td>\n",
              "      <td>359.00</td>\n",
              "    </tr>\n",
              "    <tr>\n",
              "      <th>avg_wind_speed</th>\n",
              "      <td>158680.0</td>\n",
              "      <td>2.775215</td>\n",
              "      <td>2.057624</td>\n",
              "      <td>0.00</td>\n",
              "      <td>1.3</td>\n",
              "      <td>2.20</td>\n",
              "      <td>3.80</td>\n",
              "      <td>31.90</td>\n",
              "    </tr>\n",
              "    <tr>\n",
              "      <th>max_wind_direction</th>\n",
              "      <td>158680.0</td>\n",
              "      <td>163.462144</td>\n",
              "      <td>92.452139</td>\n",
              "      <td>0.00</td>\n",
              "      <td>68.0</td>\n",
              "      <td>187.00</td>\n",
              "      <td>223.00</td>\n",
              "      <td>359.00</td>\n",
              "    </tr>\n",
              "    <tr>\n",
              "      <th>max_wind_speed</th>\n",
              "      <td>158680.0</td>\n",
              "      <td>3.400558</td>\n",
              "      <td>2.418802</td>\n",
              "      <td>0.10</td>\n",
              "      <td>1.6</td>\n",
              "      <td>2.70</td>\n",
              "      <td>4.60</td>\n",
              "      <td>36.00</td>\n",
              "    </tr>\n",
              "    <tr>\n",
              "      <th>min_wind_direction</th>\n",
              "      <td>158680.0</td>\n",
              "      <td>166.774017</td>\n",
              "      <td>97.441109</td>\n",
              "      <td>0.00</td>\n",
              "      <td>76.0</td>\n",
              "      <td>180.00</td>\n",
              "      <td>212.00</td>\n",
              "      <td>359.00</td>\n",
              "    </tr>\n",
              "    <tr>\n",
              "      <th>min_wind_speed</th>\n",
              "      <td>158680.0</td>\n",
              "      <td>2.134664</td>\n",
              "      <td>1.742113</td>\n",
              "      <td>0.00</td>\n",
              "      <td>0.8</td>\n",
              "      <td>1.60</td>\n",
              "      <td>3.00</td>\n",
              "      <td>31.60</td>\n",
              "    </tr>\n",
              "    <tr>\n",
              "      <th>rain_accumulation</th>\n",
              "      <td>158725.0</td>\n",
              "      <td>0.000318</td>\n",
              "      <td>0.011236</td>\n",
              "      <td>0.00</td>\n",
              "      <td>0.0</td>\n",
              "      <td>0.00</td>\n",
              "      <td>0.00</td>\n",
              "      <td>3.12</td>\n",
              "    </tr>\n",
              "    <tr>\n",
              "      <th>rain_duration</th>\n",
              "      <td>158725.0</td>\n",
              "      <td>0.409627</td>\n",
              "      <td>8.665523</td>\n",
              "      <td>0.00</td>\n",
              "      <td>0.0</td>\n",
              "      <td>0.00</td>\n",
              "      <td>0.00</td>\n",
              "      <td>2960.00</td>\n",
              "    </tr>\n",
              "    <tr>\n",
              "      <th>relative_humidity</th>\n",
              "      <td>158726.0</td>\n",
              "      <td>47.609470</td>\n",
              "      <td>26.214409</td>\n",
              "      <td>0.90</td>\n",
              "      <td>24.7</td>\n",
              "      <td>44.70</td>\n",
              "      <td>68.00</td>\n",
              "      <td>93.00</td>\n",
              "    </tr>\n",
              "  </tbody>\n",
              "</table>\n",
              "</div>"
            ],
            "text/plain": [
              "                       count           mean  ...         75%         max\n",
              "rowID               158726.0  793625.000000  ...  1190437.50  1587250.00\n",
              "air_pressure        158726.0     916.830161  ...      918.70      929.50\n",
              "air_temp            158726.0      61.851589  ...       70.88       99.50\n",
              "avg_wind_direction  158680.0     162.156100  ...      217.00      359.00\n",
              "avg_wind_speed      158680.0       2.775215  ...        3.80       31.90\n",
              "max_wind_direction  158680.0     163.462144  ...      223.00      359.00\n",
              "max_wind_speed      158680.0       3.400558  ...        4.60       36.00\n",
              "min_wind_direction  158680.0     166.774017  ...      212.00      359.00\n",
              "min_wind_speed      158680.0       2.134664  ...        3.00       31.60\n",
              "rain_accumulation   158725.0       0.000318  ...        0.00        3.12\n",
              "rain_duration       158725.0       0.409627  ...        0.00     2960.00\n",
              "relative_humidity   158726.0      47.609470  ...       68.00       93.00\n",
              "\n",
              "[12 rows x 8 columns]"
            ]
          },
          "metadata": {
            "tags": []
          },
          "execution_count": 8
        }
      ]
    },
    {
      "cell_type": "code",
      "metadata": {
        "id": "-C5XuZDUnRcx",
        "colab": {
          "base_uri": "https://localhost:8080/"
        },
        "outputId": "ca8c62ec-d18c-4614-a4b2-d3ca0b8d2b7c"
      },
      "source": [
        "sampled_df[sampled_df['rain_accumulation'] == 0].shape"
      ],
      "execution_count": 9,
      "outputs": [
        {
          "output_type": "execute_result",
          "data": {
            "text/plain": [
              "(157812, 13)"
            ]
          },
          "metadata": {
            "tags": []
          },
          "execution_count": 9
        }
      ]
    },
    {
      "cell_type": "code",
      "metadata": {
        "id": "cGUDTjyZnRgD",
        "colab": {
          "base_uri": "https://localhost:8080/"
        },
        "outputId": "412bd4e2-b5f3-42de-ac97-0c71c0732bd6"
      },
      "source": [
        "sampled_df[sampled_df['rain_duration'] == 0].shape"
      ],
      "execution_count": 10,
      "outputs": [
        {
          "output_type": "execute_result",
          "data": {
            "text/plain": [
              "(157237, 13)"
            ]
          },
          "metadata": {
            "tags": []
          },
          "execution_count": 10
        }
      ]
    },
    {
      "cell_type": "code",
      "metadata": {
        "id": "36uRdlSPnRjN"
      },
      "source": [
        "del sampled_df['rain_accumulation']\n",
        "del sampled_df['rain_duration']"
      ],
      "execution_count": 11,
      "outputs": []
    },
    {
      "cell_type": "code",
      "metadata": {
        "id": "pqbdnmPBnqVb"
      },
      "source": [
        "rows_before = sampled_df.shape[0]\n",
        "sampled_df = sampled_df.dropna()\n",
        "rows_after = sampled_df.shape[0]"
      ],
      "execution_count": 12,
      "outputs": []
    },
    {
      "cell_type": "code",
      "metadata": {
        "id": "e0TK7kq4nqZc",
        "colab": {
          "base_uri": "https://localhost:8080/"
        },
        "outputId": "276bf173-fdbc-4fbf-803d-0bba103d3cdd"
      },
      "source": [
        "rows_before - rows_after"
      ],
      "execution_count": 13,
      "outputs": [
        {
          "output_type": "execute_result",
          "data": {
            "text/plain": [
              "46"
            ]
          },
          "metadata": {
            "tags": []
          },
          "execution_count": 13
        }
      ]
    },
    {
      "cell_type": "code",
      "metadata": {
        "id": "JQcvFVh1nqcb",
        "colab": {
          "base_uri": "https://localhost:8080/"
        },
        "outputId": "ff2c1c55-ee17-4bb3-c195-5d44d7cc6430"
      },
      "source": [
        "sampled_df.columns"
      ],
      "execution_count": 14,
      "outputs": [
        {
          "output_type": "execute_result",
          "data": {
            "text/plain": [
              "Index(['rowID', 'hpwren_timestamp', 'air_pressure', 'air_temp',\n",
              "       'avg_wind_direction', 'avg_wind_speed', 'max_wind_direction',\n",
              "       'max_wind_speed', 'min_wind_direction', 'min_wind_speed',\n",
              "       'relative_humidity'],\n",
              "      dtype='object')"
            ]
          },
          "metadata": {
            "tags": []
          },
          "execution_count": 14
        }
      ]
    },
    {
      "cell_type": "code",
      "metadata": {
        "id": "-0cFANsWnqft"
      },
      "source": [
        "features = ['air_pressure', 'air_temp', 'avg_wind_direction', 'avg_wind_speed', 'max_wind_direction', 'max_wind_speed','relative_humidity']"
      ],
      "execution_count": 15,
      "outputs": []
    },
    {
      "cell_type": "code",
      "metadata": {
        "id": "6Liyxy9bn8sC"
      },
      "source": [
        "select_df = sampled_df[features]"
      ],
      "execution_count": 16,
      "outputs": []
    },
    {
      "cell_type": "code",
      "metadata": {
        "id": "N8a26jIHn8vX",
        "colab": {
          "base_uri": "https://localhost:8080/"
        },
        "outputId": "eada4888-b0bc-4fcd-8566-6ce5073ecadb"
      },
      "source": [
        "select_df.columns"
      ],
      "execution_count": 17,
      "outputs": [
        {
          "output_type": "execute_result",
          "data": {
            "text/plain": [
              "Index(['air_pressure', 'air_temp', 'avg_wind_direction', 'avg_wind_speed',\n",
              "       'max_wind_direction', 'max_wind_speed', 'relative_humidity'],\n",
              "      dtype='object')"
            ]
          },
          "metadata": {
            "tags": []
          },
          "execution_count": 17
        }
      ]
    },
    {
      "cell_type": "code",
      "metadata": {
        "id": "md6qNrMgoGM2",
        "colab": {
          "base_uri": "https://localhost:8080/",
          "height": 402
        },
        "outputId": "801c07bd-7113-40b9-ecdd-ad8e48be11a7"
      },
      "source": [
        "select_df"
      ],
      "execution_count": 18,
      "outputs": [
        {
          "output_type": "execute_result",
          "data": {
            "text/html": [
              "<div>\n",
              "<style scoped>\n",
              "    .dataframe tbody tr th:only-of-type {\n",
              "        vertical-align: middle;\n",
              "    }\n",
              "\n",
              "    .dataframe tbody tr th {\n",
              "        vertical-align: top;\n",
              "    }\n",
              "\n",
              "    .dataframe thead th {\n",
              "        text-align: right;\n",
              "    }\n",
              "</style>\n",
              "<table border=\"1\" class=\"dataframe\">\n",
              "  <thead>\n",
              "    <tr style=\"text-align: right;\">\n",
              "      <th></th>\n",
              "      <th>air_pressure</th>\n",
              "      <th>air_temp</th>\n",
              "      <th>avg_wind_direction</th>\n",
              "      <th>avg_wind_speed</th>\n",
              "      <th>max_wind_direction</th>\n",
              "      <th>max_wind_speed</th>\n",
              "      <th>relative_humidity</th>\n",
              "    </tr>\n",
              "  </thead>\n",
              "  <tbody>\n",
              "    <tr>\n",
              "      <th>0</th>\n",
              "      <td>912.3</td>\n",
              "      <td>64.76</td>\n",
              "      <td>97.0</td>\n",
              "      <td>1.2</td>\n",
              "      <td>106.0</td>\n",
              "      <td>1.6</td>\n",
              "      <td>60.5</td>\n",
              "    </tr>\n",
              "    <tr>\n",
              "      <th>10</th>\n",
              "      <td>912.3</td>\n",
              "      <td>62.24</td>\n",
              "      <td>144.0</td>\n",
              "      <td>1.2</td>\n",
              "      <td>167.0</td>\n",
              "      <td>1.8</td>\n",
              "      <td>38.5</td>\n",
              "    </tr>\n",
              "    <tr>\n",
              "      <th>20</th>\n",
              "      <td>912.2</td>\n",
              "      <td>63.32</td>\n",
              "      <td>100.0</td>\n",
              "      <td>2.0</td>\n",
              "      <td>122.0</td>\n",
              "      <td>2.5</td>\n",
              "      <td>58.3</td>\n",
              "    </tr>\n",
              "    <tr>\n",
              "      <th>30</th>\n",
              "      <td>912.2</td>\n",
              "      <td>62.60</td>\n",
              "      <td>91.0</td>\n",
              "      <td>2.0</td>\n",
              "      <td>103.0</td>\n",
              "      <td>2.4</td>\n",
              "      <td>57.9</td>\n",
              "    </tr>\n",
              "    <tr>\n",
              "      <th>40</th>\n",
              "      <td>912.2</td>\n",
              "      <td>64.04</td>\n",
              "      <td>81.0</td>\n",
              "      <td>2.6</td>\n",
              "      <td>88.0</td>\n",
              "      <td>2.9</td>\n",
              "      <td>57.4</td>\n",
              "    </tr>\n",
              "    <tr>\n",
              "      <th>...</th>\n",
              "      <td>...</td>\n",
              "      <td>...</td>\n",
              "      <td>...</td>\n",
              "      <td>...</td>\n",
              "      <td>...</td>\n",
              "      <td>...</td>\n",
              "      <td>...</td>\n",
              "    </tr>\n",
              "    <tr>\n",
              "      <th>1587210</th>\n",
              "      <td>915.9</td>\n",
              "      <td>75.56</td>\n",
              "      <td>330.0</td>\n",
              "      <td>1.0</td>\n",
              "      <td>341.0</td>\n",
              "      <td>1.3</td>\n",
              "      <td>47.8</td>\n",
              "    </tr>\n",
              "    <tr>\n",
              "      <th>1587220</th>\n",
              "      <td>915.9</td>\n",
              "      <td>75.56</td>\n",
              "      <td>330.0</td>\n",
              "      <td>1.1</td>\n",
              "      <td>341.0</td>\n",
              "      <td>1.4</td>\n",
              "      <td>48.0</td>\n",
              "    </tr>\n",
              "    <tr>\n",
              "      <th>1587230</th>\n",
              "      <td>915.9</td>\n",
              "      <td>75.56</td>\n",
              "      <td>344.0</td>\n",
              "      <td>1.4</td>\n",
              "      <td>352.0</td>\n",
              "      <td>1.7</td>\n",
              "      <td>48.0</td>\n",
              "    </tr>\n",
              "    <tr>\n",
              "      <th>1587240</th>\n",
              "      <td>915.9</td>\n",
              "      <td>75.20</td>\n",
              "      <td>359.0</td>\n",
              "      <td>1.3</td>\n",
              "      <td>9.0</td>\n",
              "      <td>1.6</td>\n",
              "      <td>46.3</td>\n",
              "    </tr>\n",
              "    <tr>\n",
              "      <th>1587250</th>\n",
              "      <td>915.9</td>\n",
              "      <td>74.84</td>\n",
              "      <td>6.0</td>\n",
              "      <td>1.5</td>\n",
              "      <td>20.0</td>\n",
              "      <td>1.9</td>\n",
              "      <td>46.1</td>\n",
              "    </tr>\n",
              "  </tbody>\n",
              "</table>\n",
              "<p>158680 rows × 7 columns</p>\n",
              "</div>"
            ],
            "text/plain": [
              "         air_pressure  air_temp  ...  max_wind_speed  relative_humidity\n",
              "0               912.3     64.76  ...             1.6               60.5\n",
              "10              912.3     62.24  ...             1.8               38.5\n",
              "20              912.2     63.32  ...             2.5               58.3\n",
              "30              912.2     62.60  ...             2.4               57.9\n",
              "40              912.2     64.04  ...             2.9               57.4\n",
              "...               ...       ...  ...             ...                ...\n",
              "1587210         915.9     75.56  ...             1.3               47.8\n",
              "1587220         915.9     75.56  ...             1.4               48.0\n",
              "1587230         915.9     75.56  ...             1.7               48.0\n",
              "1587240         915.9     75.20  ...             1.6               46.3\n",
              "1587250         915.9     74.84  ...             1.9               46.1\n",
              "\n",
              "[158680 rows x 7 columns]"
            ]
          },
          "metadata": {
            "tags": []
          },
          "execution_count": 18
        }
      ]
    },
    {
      "cell_type": "code",
      "metadata": {
        "id": "fo8BLWwEoGZ-",
        "colab": {
          "base_uri": "https://localhost:8080/"
        },
        "outputId": "c6b53a30-6a3d-4ab4-85d5-538b1986ae5c"
      },
      "source": [
        "X = StandardScaler().fit_transform(select_df)\n",
        "X"
      ],
      "execution_count": 19,
      "outputs": [
        {
          "output_type": "execute_result",
          "data": {
            "text/plain": [
              "array([[-1.48456281,  0.24544455, -0.68385323, ..., -0.62153592,\n",
              "        -0.74440309,  0.49233835],\n",
              "       [-1.48456281,  0.03247142, -0.19055941, ...,  0.03826701,\n",
              "        -0.66171726, -0.34710804],\n",
              "       [-1.51733167,  0.12374562, -0.65236639, ..., -0.44847286,\n",
              "        -0.37231683,  0.40839371],\n",
              "       ...,\n",
              "       [-0.30488381,  1.15818654,  1.90856325, ...,  2.0393087 ,\n",
              "        -0.70306017,  0.01538018],\n",
              "       [-0.30488381,  1.12776181,  2.06599745, ..., -1.67073075,\n",
              "        -0.74440309, -0.04948614],\n",
              "       [-0.30488381,  1.09733708, -1.63895404, ..., -1.55174989,\n",
              "        -0.62037434, -0.05711747]])"
            ]
          },
          "metadata": {
            "tags": []
          },
          "execution_count": 19
        }
      ]
    },
    {
      "cell_type": "code",
      "metadata": {
        "id": "5P_OH9OsoGj_",
        "colab": {
          "base_uri": "https://localhost:8080/"
        },
        "outputId": "122e493a-cb20-468c-f2f8-e4b998088174"
      },
      "source": [
        "#Using kmeans clustering\n",
        "kmeans = KMeans(n_clusters=12)\n",
        "model = kmeans.fit(X)\n",
        "print(\"model\\n\", model)"
      ],
      "execution_count": 20,
      "outputs": [
        {
          "output_type": "stream",
          "text": [
            "model\n",
            " KMeans(algorithm='auto', copy_x=True, init='k-means++', max_iter=300,\n",
            "       n_clusters=12, n_init=10, n_jobs=None, precompute_distances='auto',\n",
            "       random_state=None, tol=0.0001, verbose=0)\n"
          ],
          "name": "stdout"
        }
      ]
    },
    {
      "cell_type": "code",
      "metadata": {
        "id": "XbuIrL3doQLZ",
        "colab": {
          "base_uri": "https://localhost:8080/"
        },
        "outputId": "2acd489e-2f89-4058-e8ba-9b90e1e7908d"
      },
      "source": [
        "centers = model.cluster_centers_\n",
        "centers"
      ],
      "execution_count": 21,
      "outputs": [
        {
          "output_type": "execute_result",
          "data": {
            "text/plain": [
              "array([[ 0.06360158, -0.79106984, -1.19865111, -0.57036444, -1.04474114,\n",
              "        -0.58494759,  0.88013875],\n",
              "       [-0.7245782 ,  0.51194369,  0.17191124, -0.58229578,  0.34128394,\n",
              "        -0.59563459, -0.08826078],\n",
              "       [-0.20840982,  0.63345726,  0.40875435,  0.73440934,  0.51698859,\n",
              "         0.67243274, -0.15328594],\n",
              "       [ 1.19040416, -0.25450331, -1.1549009 ,  2.12106046, -1.05336487,\n",
              "         2.23776343, -1.13465193],\n",
              "       [-1.1831215 , -0.87028195,  0.44681341,  1.98322667,  0.53830956,\n",
              "         1.9442532 ,  0.90866143],\n",
              "       [ 0.13574177,  0.83434575,  1.41344862, -0.63899948,  1.67791749,\n",
              "        -0.59005644, -0.71379529],\n",
              "       [-0.16372869,  0.86324348, -1.31172732, -0.58942801, -1.16773268,\n",
              "        -0.6047306 , -0.64119682],\n",
              "       [ 0.25182364, -0.99684608,  0.65839645, -0.54672097,  0.84872262,\n",
              "        -0.52936112,  1.15827623],\n",
              "       [ 0.23422959,  0.32038874,  1.88815273, -0.65179307, -1.55172536,\n",
              "        -0.57665647, -0.28363417],\n",
              "       [ 0.68752537,  0.48036551,  0.28249096, -0.53878886,  0.46892137,\n",
              "        -0.54507948, -0.76332259],\n",
              "       [-0.83542211, -1.20432314,  0.37675641,  0.37001863,  0.47501918,\n",
              "         0.3578328 ,  1.36568446],\n",
              "       [ 1.36796382, -0.08175169, -1.20532878, -0.05333267, -1.073853  ,\n",
              "        -0.03317495, -0.97765783]])"
            ]
          },
          "metadata": {
            "tags": []
          },
          "execution_count": 21
        }
      ]
    },
    {
      "cell_type": "code",
      "metadata": {
        "id": "y3SLv49WoQWh"
      },
      "source": [
        ""
      ],
      "execution_count": null,
      "outputs": []
    }
  ]
}