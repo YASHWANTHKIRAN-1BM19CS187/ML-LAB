{
  "nbformat": 4,
  "nbformat_minor": 0,
  "metadata": {
    "colab": {
      "name": "naive_bayes_.ipynb",
      "provenance": []
    },
    "kernelspec": {
      "name": "python3",
      "display_name": "Python 3"
    },
    "language_info": {
      "name": "python"
    }
  },
  "cells": [
    {
      "cell_type": "code",
      "metadata": {
        "id": "nhXiN_0aeuRR"
      },
      "source": [
        "import numpy as np\n",
        "import pandas as pd"
      ],
      "execution_count": 1,
      "outputs": []
    },
    {
      "cell_type": "code",
      "metadata": {
        "colab": {
          "base_uri": "https://localhost:8080/",
          "height": 194
        },
        "id": "hTmNfEi6e0wK",
        "outputId": "fe165c46-98e7-4536-deb7-66deb75ad78d"
      },
      "source": [
        "data = pd.read_csv('/content/dataset.csv')\n",
        "data.head()"
      ],
      "execution_count": 2,
      "outputs": [
        {
          "output_type": "execute_result",
          "data": {
            "text/html": [
              "<div>\n",
              "<style scoped>\n",
              "    .dataframe tbody tr th:only-of-type {\n",
              "        vertical-align: middle;\n",
              "    }\n",
              "\n",
              "    .dataframe tbody tr th {\n",
              "        vertical-align: top;\n",
              "    }\n",
              "\n",
              "    .dataframe thead th {\n",
              "        text-align: right;\n",
              "    }\n",
              "</style>\n",
              "<table border=\"1\" class=\"dataframe\">\n",
              "  <thead>\n",
              "    <tr style=\"text-align: right;\">\n",
              "      <th></th>\n",
              "      <th>PlayTennis</th>\n",
              "      <th>Outlook</th>\n",
              "      <th>Temperature</th>\n",
              "      <th>Humidity</th>\n",
              "      <th>Wind</th>\n",
              "    </tr>\n",
              "  </thead>\n",
              "  <tbody>\n",
              "    <tr>\n",
              "      <th>0</th>\n",
              "      <td>No</td>\n",
              "      <td>Sunny</td>\n",
              "      <td>Hot</td>\n",
              "      <td>High</td>\n",
              "      <td>Weak</td>\n",
              "    </tr>\n",
              "    <tr>\n",
              "      <th>1</th>\n",
              "      <td>No</td>\n",
              "      <td>Sunny</td>\n",
              "      <td>Hot</td>\n",
              "      <td>High</td>\n",
              "      <td>Strong</td>\n",
              "    </tr>\n",
              "    <tr>\n",
              "      <th>2</th>\n",
              "      <td>Yes</td>\n",
              "      <td>Overcast</td>\n",
              "      <td>Hot</td>\n",
              "      <td>High</td>\n",
              "      <td>Weak</td>\n",
              "    </tr>\n",
              "    <tr>\n",
              "      <th>3</th>\n",
              "      <td>Yes</td>\n",
              "      <td>Rain</td>\n",
              "      <td>Mild</td>\n",
              "      <td>High</td>\n",
              "      <td>Weak</td>\n",
              "    </tr>\n",
              "    <tr>\n",
              "      <th>4</th>\n",
              "      <td>Yes</td>\n",
              "      <td>Rain</td>\n",
              "      <td>Cool</td>\n",
              "      <td>Normal</td>\n",
              "      <td>Weak</td>\n",
              "    </tr>\n",
              "  </tbody>\n",
              "</table>\n",
              "</div>"
            ],
            "text/plain": [
              "  PlayTennis   Outlook Temperature Humidity    Wind\n",
              "0         No     Sunny         Hot     High    Weak\n",
              "1         No     Sunny         Hot     High  Strong\n",
              "2        Yes  Overcast         Hot     High    Weak\n",
              "3        Yes      Rain        Mild     High    Weak\n",
              "4        Yes      Rain        Cool   Normal    Weak"
            ]
          },
          "metadata": {
            "tags": []
          },
          "execution_count": 2
        }
      ]
    },
    {
      "cell_type": "code",
      "metadata": {
        "colab": {
          "base_uri": "https://localhost:8080/"
        },
        "id": "VILFqqICfo-6",
        "outputId": "ce058f60-c83b-4c16-b689-42351fb8ea64"
      },
      "source": [
        "y = list(data['PlayTennis'].values)\n",
        "X = data.iloc[:,1:].values\n",
        "print(f'Target Values: {y}')\n",
        "print(f'Features: \\n{X}')"
      ],
      "execution_count": 3,
      "outputs": [
        {
          "output_type": "stream",
          "text": [
            "Target Values: ['No', 'No', 'Yes', 'Yes', 'Yes', 'No', 'Yes', 'No', 'Yes', 'Yes', 'Yes', 'Yes', 'Yes', 'No']\n",
            "Features: \n",
            "[['Sunny' 'Hot' 'High' 'Weak']\n",
            " ['Sunny' 'Hot' 'High' 'Strong']\n",
            " ['Overcast' 'Hot' 'High' 'Weak']\n",
            " ['Rain' 'Mild' 'High' 'Weak']\n",
            " ['Rain' 'Cool' 'Normal' 'Weak']\n",
            " ['Rain' 'Cool' 'Normal' 'Strong']\n",
            " ['Overcast' 'Cool' 'Normal' 'Strong']\n",
            " ['Sunny' 'Mild' 'High' 'Weak']\n",
            " ['Sunny' 'Cool' 'Normal' 'Weak']\n",
            " ['Rain' 'Mild' 'Normal' 'Weak']\n",
            " ['Sunny' 'Mild' 'Normal' 'Strong']\n",
            " ['Overcast' 'Mild' 'High' 'Strong']\n",
            " ['Overcast' 'Hot' 'Normal' 'Weak']\n",
            " ['Rain' 'Mild' 'High' 'Strong']]\n"
          ],
          "name": "stdout"
        }
      ]
    },
    {
      "cell_type": "code",
      "metadata": {
        "colab": {
          "base_uri": "https://localhost:8080/"
        },
        "id": "cFngCziFfuzG",
        "outputId": "f3856010-6f4d-4ca4-9bc9-e9e0ab28f180"
      },
      "source": [
        "y_train = y[:8]\n",
        "y_val = y[8:]\n",
        "X_train = X[:8]\n",
        "X_val = X[8:]\n",
        "print(f\"Number of instances in training set: {len(X_train)}\")\n",
        "print(f\"Number of instances in testing set: {len(X_val)}\")"
      ],
      "execution_count": 4,
      "outputs": [
        {
          "output_type": "stream",
          "text": [
            "Number of instances in training set: 8\n",
            "Number of instances in testing set: 6\n"
          ],
          "name": "stdout"
        }
      ]
    },
    {
      "cell_type": "code",
      "metadata": {
        "id": "YKQTC_3kfzCN"
      },
      "source": [
        "class NaiveBayesClassifier:   \n",
        "    def __init__(self, X, y):\n",
        "        self.X, self.y = X, y \n",
        "        self.N = len(self.X)\n",
        "        self.dim = len(self.X[0]) \n",
        "        self.attrs = [[] for _ in range(self.dim)] \n",
        "        self.output_dom = {} \n",
        "        self.data = []     \n",
        "        for i in range(len(self.X)):\n",
        "            for j in range(self.dim):\n",
        "                if not self.X[i][j] in self.attrs[j]:\n",
        "                    self.attrs[j].append(self.X[i][j])         \n",
        "            if not self.y[i] in self.output_dom.keys():\n",
        "                self.output_dom[self.y[i]] = 1\n",
        "            else:\n",
        "                self.output_dom[self.y[i]] += 1\n",
        "            self.data.append([self.X[i], self.y[i]])\n",
        "    def classify(self, entry):\n",
        "        solve = None \n",
        "        max_arg = -1\n",
        "        for y in self.output_dom.keys():\n",
        "            prob = self.output_dom[y]/self.N \n",
        "            for i in range(self.dim):\n",
        "                cases = [x for x in self.data if x[0][i] == entry[i] and x[1] == y] \n",
        "                n = len(cases)\n",
        "                prob *= n/self.N     \n",
        "            if prob > max_arg:\n",
        "                max_arg = prob\n",
        "                solve = y\n",
        "        return solve"
      ],
      "execution_count": 5,
      "outputs": []
    },
    {
      "cell_type": "code",
      "metadata": {
        "colab": {
          "base_uri": "https://localhost:8080/"
        },
        "id": "LCklCiGEf3lY",
        "outputId": "134b15e3-d7aa-4636-e2b9-61091dd5fb5b"
      },
      "source": [
        "nbc = NaiveBayesClassifier(X_train, y_train)\n",
        "total_cases = len(y_val)\n",
        "good = 0\n",
        "bad = 0\n",
        "predictions = []\n",
        "for i in range(total_cases):\n",
        "    predict = nbc.classify(X_val[i])\n",
        "    predictions.append(predict)\n",
        "    if y_val[i] == predict:\n",
        "        good += 1\n",
        "    else:\n",
        "        bad += 1\n",
        "print('Predicted values:', predictions)\n",
        "print('Actual values:', y_val)\n",
        "print()\n",
        "print('Total number of testing instances in the dataset:', total_cases)\n",
        "print('Number of correct predictions:', good)\n",
        "print('Number of wrong predictions:', bad)\n",
        "print()\n",
        "print('Accuracy of Bayes Classifier:', good/total_cases)"
      ],
      "execution_count": 6,
      "outputs": [
        {
          "output_type": "stream",
          "text": [
            "Predicted values: ['No', 'Yes', 'No', 'Yes', 'Yes', 'No']\n",
            "Actual values: ['Yes', 'Yes', 'Yes', 'Yes', 'Yes', 'No']\n",
            "\n",
            "Total number of testing instances in the dataset: 6\n",
            "Number of correct predictions: 4\n",
            "Number of wrong predictions: 2\n",
            "\n",
            "Accuracy of Bayes Classifier: 0.6666666666666666\n"
          ],
          "name": "stdout"
        }
      ]
    }
  ]
}