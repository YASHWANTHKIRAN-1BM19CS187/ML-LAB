{
 "metadata": {
  "language_info": {
   "codemirror_mode": {
    "name": "ipython",
    "version": 3
   },
   "file_extension": ".py",
   "mimetype": "text/x-python",
   "name": "python",
   "nbconvert_exporter": "python",
   "pygments_lexer": "ipython3",
   "version": "3.8.3"
  },
  "orig_nbformat": 2,
  "kernelspec": {
   "name": "python383jvsc74a57bd070a8f8eae77aa0782808e6cfd2856706ff3a57d0cd6b26c7758c1e171a3508dc",
   "display_name": "Python 3.8.3 32-bit"
  },
  "metadata": {
   "interpreter": {
    "hash": "70a8f8eae77aa0782808e6cfd2856706ff3a57d0cd6b26c7758c1e171a3508dc"
   }
  }
 },
 "nbformat": 4,
 "nbformat_minor": 2,
 "cells": [
  {
   "cell_type": "code",
   "execution_count": 21,
   "metadata": {},
   "outputs": [
    {
     "output_type": "execute_result",
     "data": {
      "text/plain": [
       "  PlayTennis   Outlook Temperature Humidity    Wind\n",
       "0         No     Sunny         Hot     High    Weak\n",
       "1         No     Sunny         Hot     High  Strong\n",
       "2        Yes  Overcast         Hot     High    Weak\n",
       "3        Yes      Rain        Mild     High    Weak\n",
       "4        Yes      Rain        Cool   Normal    Weak"
      ],
      "text/html": "<div>\n<style scoped>\n    .dataframe tbody tr th:only-of-type {\n        vertical-align: middle;\n    }\n\n    .dataframe tbody tr th {\n        vertical-align: top;\n    }\n\n    .dataframe thead th {\n        text-align: right;\n    }\n</style>\n<table border=\"1\" class=\"dataframe\">\n  <thead>\n    <tr style=\"text-align: right;\">\n      <th></th>\n      <th>PlayTennis</th>\n      <th>Outlook</th>\n      <th>Temperature</th>\n      <th>Humidity</th>\n      <th>Wind</th>\n    </tr>\n  </thead>\n  <tbody>\n    <tr>\n      <th>0</th>\n      <td>No</td>\n      <td>Sunny</td>\n      <td>Hot</td>\n      <td>High</td>\n      <td>Weak</td>\n    </tr>\n    <tr>\n      <th>1</th>\n      <td>No</td>\n      <td>Sunny</td>\n      <td>Hot</td>\n      <td>High</td>\n      <td>Strong</td>\n    </tr>\n    <tr>\n      <th>2</th>\n      <td>Yes</td>\n      <td>Overcast</td>\n      <td>Hot</td>\n      <td>High</td>\n      <td>Weak</td>\n    </tr>\n    <tr>\n      <th>3</th>\n      <td>Yes</td>\n      <td>Rain</td>\n      <td>Mild</td>\n      <td>High</td>\n      <td>Weak</td>\n    </tr>\n    <tr>\n      <th>4</th>\n      <td>Yes</td>\n      <td>Rain</td>\n      <td>Cool</td>\n      <td>Normal</td>\n      <td>Weak</td>\n    </tr>\n  </tbody>\n</table>\n</div>"
     },
     "metadata": {},
     "execution_count": 21
    }
   ],
   "source": [
    "import pandas as pd\n",
    "\n",
    "data = pd.read_csv('PlayTennis.csv')\n",
    "data.head()"
   ]
  },
  {
   "cell_type": "code",
   "execution_count": 22,
   "metadata": {},
   "outputs": [
    {
     "output_type": "stream",
     "name": "stdout",
     "text": [
      "Target Values: ['No', 'No', 'Yes', 'Yes', 'Yes', 'No', 'Yes', 'No', 'Yes', 'Yes', 'Yes', 'Yes', 'Yes', 'No']\nFeatures: \n[['Sunny' 'Hot' 'High' 'Weak']\n ['Sunny' 'Hot' 'High' 'Strong']\n ['Overcast' 'Hot' 'High' 'Weak']\n ['Rain' 'Mild' 'High' 'Weak']\n ['Rain' 'Cool' 'Normal' 'Weak']\n ['Rain' 'Cool' 'Normal' 'Strong']\n ['Overcast' 'Cool' 'Normal' 'Strong']\n ['Sunny' 'Mild' 'High' 'Weak']\n ['Sunny' 'Cool' 'Normal' 'Weak']\n ['Rain' 'Mild' 'Normal' 'Weak']\n ['Sunny' 'Mild' 'Normal' 'Strong']\n ['Overcast' 'Mild' 'High' 'Strong']\n ['Overcast' 'Hot' 'Normal' 'Weak']\n ['Rain' 'Mild' 'High' 'Strong']]\n"
     ]
    }
   ],
   "source": [
    "y = list(data['PlayTennis'].values)\n",
    "X = data.iloc[:,1:].values\n",
    "\n",
    "print(f'Target Values: {y}')\n",
    "print(f'Features: \\n{X}')"
   ]
  },
  {
   "cell_type": "code",
   "execution_count": 23,
   "metadata": {},
   "outputs": [
    {
     "output_type": "stream",
     "name": "stdout",
     "text": [
      "Number of instances in training set: 8\nNumber of instances in testing set: 6\n"
     ]
    }
   ],
   "source": [
    "\n",
    "y_train = y[:8]\n",
    "y_val = y[8:]\n",
    "\n",
    "X_train = X[:8]\n",
    "X_val = X[8:]\n",
    "\n",
    "print(f\"Number of instances in training set: {len(X_train)}\")\n",
    "print(f\"Number of instances in testing set: {len(X_val)}\")"
   ]
  },
  {
   "cell_type": "code",
   "execution_count": 24,
   "metadata": {},
   "outputs": [],
   "source": [
    "\n",
    "class NaiveBayesClassifier:\n",
    "    \n",
    "    \n",
    "    def __init__(self, X, y):\n",
    "        \n",
    "        self.X, self.y = X, y \n",
    "        \n",
    "        self.N = len(self.X)\n",
    "\n",
    "        self.dim = len(self.X[0]) \n",
    "\n",
    "        self.attrs = [[] for _ in range(self.dim)] \n",
    "\n",
    "        self.output_dom = {} \n",
    "\n",
    "        self.data = []\n",
    "        \n",
    "        for i in range(len(self.X)):\n",
    "            for j in range(self.dim):\n",
    "                if not self.X[i][j] in self.attrs[j]:\n",
    "                    self.attrs[j].append(self.X[i][j])\n",
    "                    \n",
    "            if not self.y[i] in self.output_dom.keys():\n",
    "                self.output_dom[self.y[i]] = 1\n",
    "            \n",
    "            else:\n",
    "                self.output_dom[self.y[i]] += 1\n",
    "            \n",
    "            self.data.append([self.X[i], self.y[i]])\n",
    "    def classify(self, entry):\n",
    "\n",
    "        solve = None \n",
    "        max_arg = -1\n",
    "\n",
    "        for y in self.output_dom.keys():\n",
    "\n",
    "            prob = self.output_dom[y]/self.N \n",
    "\n",
    "            for i in range(self.dim):\n",
    "                cases = [x for x in self.data if x[0][i] == entry[i] and x[1] == y] \n",
    "                n = len(cases)\n",
    "                prob *= n/self.N \n",
    "                \n",
    "            if prob > max_arg:\n",
    "                max_arg = prob\n",
    "                solve = y\n",
    "\n",
    "        return solve"
   ]
  },
  {
   "cell_type": "code",
   "execution_count": 25,
   "metadata": {},
   "outputs": [
    {
     "output_type": "stream",
     "name": "stdout",
     "text": [
      "Predicted values: ['No', 'Yes', 'No', 'Yes', 'Yes', 'No']\nActual values: ['Yes', 'Yes', 'Yes', 'Yes', 'Yes', 'No']\n\nTotal number of testing instances in the dataset: 6\nNumber of correct predictions: 4\nNumber of wrong predictions: 2\n\nAccuracy of Bayes Classifier: 0.6666666666666666\n"
     ]
    }
   ],
   "source": [
    "nbc = NaiveBayesClassifier(X_train, y_train)\n",
    "\n",
    "total_cases = len(y_val)\n",
    "\n",
    "good = 0\n",
    "bad = 0\n",
    "predictions = []\n",
    "\n",
    "for i in range(total_cases):\n",
    "    predict = nbc.classify(X_val[i])\n",
    "    predictions.append(predict)\n",
    "\n",
    "    if y_val[i] == predict:\n",
    "        good += 1\n",
    "    else:\n",
    "        bad += 1\n",
    "        \n",
    "print('Predicted values:', predictions)\n",
    "print('Actual values:', y_val)\n",
    "print()\n",
    "print('Total number of testing instances in the dataset:', total_cases)\n",
    "print('Number of correct predictions:', good)\n",
    "print('Number of wrong predictions:', bad)\n",
    "print()\n",
    "print('Accuracy of Bayes Classifier:', good/total_cases)"
   ]
  }
 ]
}